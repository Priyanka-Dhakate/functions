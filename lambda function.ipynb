{
 "cells": [
  {
   "cell_type": "markdown",
   "id": "58b6b028",
   "metadata": {},
   "source": [
    "##### write one line of code we can use lambda."
   ]
  },
  {
   "cell_type": "code",
   "execution_count": 4,
   "id": "b5d9b685",
   "metadata": {},
   "outputs": [],
   "source": [
    "#lambda arguments:expressions\n",
    "x=lambda a:a+10         #one liner"
   ]
  },
  {
   "cell_type": "code",
   "execution_count": 5,
   "id": "042bcf9a",
   "metadata": {},
   "outputs": [
    {
     "data": {
      "text/plain": [
       "13"
      ]
     },
     "execution_count": 5,
     "metadata": {},
     "output_type": "execute_result"
    }
   ],
   "source": [
    "x(3)"
   ]
  },
  {
   "cell_type": "code",
   "execution_count": 12,
   "id": "214a10ce",
   "metadata": {},
   "outputs": [],
   "source": [
    "z=lambda x,y:x**y"
   ]
  },
  {
   "cell_type": "code",
   "execution_count": 13,
   "id": "e86d16cd",
   "metadata": {},
   "outputs": [
    {
     "data": {
      "text/plain": [
       "15625"
      ]
     },
     "execution_count": 13,
     "metadata": {},
     "output_type": "execute_result"
    }
   ],
   "source": [
    "z(5,6)"
   ]
  },
  {
   "cell_type": "code",
   "execution_count": 3,
   "id": "8cbc2303",
   "metadata": {},
   "outputs": [
    {
     "name": "stdout",
     "output_type": "stream",
     "text": [
      "26\n",
      "12\n"
     ]
    }
   ],
   "source": [
    "def f1(n):\n",
    "    return lambda a:a*n\n",
    "double=f1(2)\n",
    "print(double(13))\n",
    "triplet=f1(3)\n",
    "print(triplet(4))"
   ]
  },
  {
   "cell_type": "code",
   "execution_count": 1,
   "id": "d768d9bb",
   "metadata": {},
   "outputs": [
    {
     "data": {
      "text/plain": [
       "15"
      ]
     },
     "execution_count": 1,
     "metadata": {},
     "output_type": "execute_result"
    }
   ],
   "source": [
    "add=lambda x,y:x+y\n",
    "add(7,8)"
   ]
  },
  {
   "cell_type": "code",
   "execution_count": 2,
   "id": "e05550db",
   "metadata": {},
   "outputs": [],
   "source": [
    "def add1(p,q):\n",
    "    c=p+q\n",
    "    return c"
   ]
  },
  {
   "cell_type": "code",
   "execution_count": 3,
   "id": "ae4a97b3",
   "metadata": {},
   "outputs": [
    {
     "data": {
      "text/plain": [
       "14"
      ]
     },
     "execution_count": 3,
     "metadata": {},
     "output_type": "execute_result"
    }
   ],
   "source": [
    "add(6,8)"
   ]
  },
  {
   "cell_type": "markdown",
   "id": "61bbe197",
   "metadata": {},
   "source": [
    "### filter()"
   ]
  },
  {
   "cell_type": "code",
   "execution_count": 4,
   "id": "3c09a92c",
   "metadata": {},
   "outputs": [
    {
     "name": "stdout",
     "output_type": "stream",
     "text": [
      "(67,)\n"
     ]
    }
   ],
   "source": [
    "l=(56,33,13,23,22,45,56,67,3)\n",
    "x=tuple(filter(lambda a:a>57,l))\n",
    "print(x)"
   ]
  },
  {
   "cell_type": "markdown",
   "id": "0758f2fb",
   "metadata": {},
   "source": [
    "### map()"
   ]
  },
  {
   "cell_type": "code",
   "execution_count": 5,
   "id": "168ccda3",
   "metadata": {},
   "outputs": [
    {
     "name": "stdout",
     "output_type": "stream",
     "text": [
      "[1, 4, 9, 16, 25, 36, 49, 64, 81]\n"
     ]
    }
   ],
   "source": [
    "nums=[1,2,3,4,5,6,7,8,9]\n",
    "square=list(map(lambda a:a*a,nums))\n",
    "print(square)"
   ]
  },
  {
   "cell_type": "markdown",
   "id": "19e87936",
   "metadata": {},
   "source": [
    "### reduce()"
   ]
  },
  {
   "cell_type": "markdown",
   "id": "5769c555",
   "metadata": {},
   "source": [
    "the reduce(fn,seq) fn is used to apply a particular fn passed in its arguments to all of the\n",
    "list elements mentioned in the sequence passed along.\n",
    "- defined i9n \"functools\" modules\n",
    "- 2 4 6 8\n",
    "- 2+4 6 8\n",
    "- 6+6 8\n",
    "- 12+8\n",
    "- 20\n",
    "- At first step, 1st 2 elements of a sequence are picked and the result is obtained.\n",
    "\n",
    "syntax:\n",
    "-from functools import reduce\n",
    "result=reduce(lambda x,y: expression, iterable)"
   ]
  },
  {
   "cell_type": "markdown",
   "id": "ef67c1b5",
   "metadata": {},
   "source": [
    "### sum of list elements using reduce fn"
   ]
  },
  {
   "cell_type": "code",
   "execution_count": 6,
   "id": "04ee9afb",
   "metadata": {},
   "outputs": [],
   "source": [
    "from functools import reduce\n",
    "def myfn(a,b):\n",
    "    return a*b"
   ]
  },
  {
   "cell_type": "code",
   "execution_count": 7,
   "id": "64acb185",
   "metadata": {},
   "outputs": [
    {
     "data": {
      "text/plain": [
       "5040"
      ]
     },
     "execution_count": 7,
     "metadata": {},
     "output_type": "execute_result"
    }
   ],
   "source": [
    "val=[1,2,3,4,5,6,7]    #1,2 are a,b\n",
    "add=reduce(myfn,val)\n",
    "add"
   ]
  },
  {
   "cell_type": "code",
   "execution_count": 8,
   "id": "69621e76",
   "metadata": {},
   "outputs": [],
   "source": [
    "add_lambda=reduce(lambda a,b:a+b,val)"
   ]
  },
  {
   "cell_type": "code",
   "execution_count": 9,
   "id": "3abca6c2",
   "metadata": {},
   "outputs": [
    {
     "data": {
      "text/plain": [
       "28"
      ]
     },
     "execution_count": 9,
     "metadata": {},
     "output_type": "execute_result"
    }
   ],
   "source": [
    "add_lambda"
   ]
  },
  {
   "cell_type": "markdown",
   "id": "68861f7f",
   "metadata": {},
   "source": [
    "### Finding max value in the list using Reduce function"
   ]
  },
  {
   "cell_type": "code",
   "execution_count": 10,
   "id": "cb7f5f33",
   "metadata": {},
   "outputs": [],
   "source": [
    "def maximum(a,b):\n",
    "    if a>b:\n",
    "        return a\n",
    "    else:\n",
    "        return b"
   ]
  },
  {
   "cell_type": "code",
   "execution_count": 12,
   "id": "cd3392b4",
   "metadata": {},
   "outputs": [],
   "source": [
    "val=[2,4,5,7,10,19,20,10]\n",
    "max1=reduce(maximum,val)"
   ]
  },
  {
   "cell_type": "code",
   "execution_count": 13,
   "id": "f96034a0",
   "metadata": {},
   "outputs": [
    {
     "data": {
      "text/plain": [
       "20"
      ]
     },
     "execution_count": 13,
     "metadata": {},
     "output_type": "execute_result"
    }
   ],
   "source": [
    "max1"
   ]
  },
  {
   "cell_type": "code",
   "execution_count": 14,
   "id": "29b166d6",
   "metadata": {},
   "outputs": [],
   "source": [
    "max_lambda=reduce(lambda a,b:a if a>b else b,val)"
   ]
  },
  {
   "cell_type": "code",
   "execution_count": 15,
   "id": "79e88bd3",
   "metadata": {},
   "outputs": [
    {
     "data": {
      "text/plain": [
       "20"
      ]
     },
     "execution_count": 15,
     "metadata": {},
     "output_type": "execute_result"
    }
   ],
   "source": [
    "max_lambda"
   ]
  },
  {
   "cell_type": "markdown",
   "id": "681554a2",
   "metadata": {},
   "source": [
    "### product of numbers"
   ]
  },
  {
   "cell_type": "code",
   "execution_count": 16,
   "id": "9bef5926",
   "metadata": {},
   "outputs": [
    {
     "name": "stdout",
     "output_type": "stream",
     "text": [
      "Product of elements: 120\n"
     ]
    }
   ],
   "source": [
    "numbers=[1,2,3,4,5]\n",
    "product = reduce(lambda x, y:x*y, numbers)\n",
    "\n",
    "print(\"Product of elements:\", product)"
   ]
  },
  {
   "cell_type": "code",
   "execution_count": null,
   "id": "c2c73bd2",
   "metadata": {},
   "outputs": [],
   "source": []
  }
 ],
 "metadata": {
  "kernelspec": {
   "display_name": "Python 3 (ipykernel)",
   "language": "python",
   "name": "python3"
  },
  "language_info": {
   "codemirror_mode": {
    "name": "ipython",
    "version": 3
   },
   "file_extension": ".py",
   "mimetype": "text/x-python",
   "name": "python",
   "nbconvert_exporter": "python",
   "pygments_lexer": "ipython3",
   "version": "3.11.4"
  }
 },
 "nbformat": 4,
 "nbformat_minor": 5
}
